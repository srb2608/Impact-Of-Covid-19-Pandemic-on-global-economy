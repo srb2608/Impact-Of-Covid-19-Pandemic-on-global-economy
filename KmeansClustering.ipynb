{
  "nbformat": 4,
  "nbformat_minor": 0,
  "metadata": {
    "colab": {
      "name": "Kmeans_GlobalEco.ipynb",
      "provenance": []
    },
    "kernelspec": {
      "name": "python3",
      "display_name": "Python 3"
    },
    "language_info": {
      "name": "python"
    }
  },
  "cells": [
    {
      "cell_type": "code",
      "metadata": {
        "id": "TGhJa4IqywPq"
      },
      "source": [
        "import numpy as np\n",
        "import pandas as pd\n",
        "from matplotlib import pyplot as plt\n",
        "from sklearn.datasets.samples_generator import make_blobs\n",
        "from sklearn.cluster import KMeans"
      ],
      "execution_count": 237,
      "outputs": []
    },
    {
      "cell_type": "code",
      "metadata": {
        "colab": {
          "base_uri": "https://localhost:8080/"
        },
        "id": "XATsRAX15vTB",
        "outputId": "b0527696-2b5a-49fd-a25f-37c70c86eece"
      },
      "source": [
        "df = pd.read_csv('Modified2.csv')\n",
        "print(df)"
      ],
      "execution_count": 192,
      "outputs": [
        {
          "output_type": "stream",
          "text": [
            "    CODE      COUNTRY        DATE    HDI  ...    TD    STI       POP        GDP\n",
            "0    AFG  Afghanistan  19/10/2020  0.498  ...  1492  25.00  38928341   1803.987\n",
            "1    ALB      Albania  19/10/2020  0.785  ...   451  43.52   2877800  11803.431\n",
            "2    DZA      Algeria  19/10/2020  0.754  ...  1856  75.93  43851043  13913.839\n",
            "3    AND      Andorra  19/10/2020  0.858  ...    59  50.00     77265  40886.390\n",
            "4    AGO       Angola  19/10/2020  0.581  ...   241  71.30  32866268   5819.495\n",
            "..   ...          ...         ...    ...  ...   ...    ...       ...        ...\n",
            "204  VEN    Venezuela  19/10/2020  0.761  ...   736  87.96  28435943  16745.022\n",
            "205  VNM      Vietnam  19/10/2020  0.694  ...    35  51.85  97338583   6171.884\n",
            "206  YEM        Yemen  19/10/2020  0.452  ...   597  45.37  29825968   1479.147\n",
            "207  ZMB       Zambia  19/10/2020  0.588  ...   346  44.44  18383956   3689.251\n",
            "208  ZWE     Zimbabwe  19/10/2020  0.535  ...   231  76.85  14862927   1899.775\n",
            "\n",
            "[209 rows x 9 columns]\n"
          ],
          "name": "stdout"
        }
      ]
    },
    {
      "cell_type": "code",
      "metadata": {
        "colab": {
          "base_uri": "https://localhost:8080/"
        },
        "id": "UJSOtUTv6ujV",
        "outputId": "8a58f3bc-b70d-4a4c-f5ef-0c7dd5db9fb7"
      },
      "source": [
        "print(df.shape)"
      ],
      "execution_count": 193,
      "outputs": [
        {
          "output_type": "stream",
          "text": [
            "(209, 9)\n"
          ],
          "name": "stdout"
        }
      ]
    },
    {
      "cell_type": "code",
      "metadata": {
        "id": "b21q2F572VKG"
      },
      "source": [
        "#Kmeans is sensitive to outliers, so we need to remove them first\n",
        "# IQR =Q3 - Q1, whereas q3 := 75th quartile and q1 := 25th quartile\n",
        "# Inner fence = [Q1-1.5*IQR, Q3+1.5*IQR]\n",
        "# Outer fence = [Q1–3*IQR, Q3+3*IQR]\n",
        "# The distribution’s inner fence is defined as 1.5 x IQR below Q1, and 1.5 x IQR above Q3. The outer fence is defined as 3 x IQR below Q1, and 3 x IQR above Q3.\n",
        "#Following Tukey, only the probable outliers are treated, which lie outside the outer fence.\n"
      ],
      "execution_count": 194,
      "outputs": []
    },
    {
      "cell_type": "code",
      "metadata": {
        "id": "B8AA0rH13tvm"
      },
      "source": [
        "#Tukey's method\n",
        "def tukeys_method(df, variable):\n",
        "    #Takes two parameters: dataframe & variable of interest as string\n",
        "    q1 = df[variable].quantile(0.25)\n",
        "    q3 = df[variable].quantile(0.75)\n",
        "    iqr = q3-q1\n",
        "    inner_fence = 1.5*iqr\n",
        "    outer_fence = 3*iqr\n",
        "    \n",
        "    #inner fence lower and upper end\n",
        "    inner_fence_le = q1-inner_fence\n",
        "    inner_fence_ue = q3+inner_fence\n",
        "    \n",
        "    #outer fence lower and upper end\n",
        "    outer_fence_le = q1-outer_fence\n",
        "    outer_fence_ue = q3+outer_fence\n",
        "    \n",
        "    outliers_prob = []\n",
        "    outliers_poss = []\n",
        "    for index, x in enumerate(df[variable]):\n",
        "        if x <= outer_fence_le or x >= outer_fence_ue:\n",
        "            outliers_prob.append(index)\n",
        "    for index, x in enumerate(df[variable]):\n",
        "        if x <= inner_fence_le or x >= inner_fence_ue:\n",
        "            outliers_poss.append(index)\n",
        "    return outliers_prob, outliers_poss"
      ],
      "execution_count": 195,
      "outputs": []
    },
    {
      "cell_type": "code",
      "metadata": {
        "colab": {
          "base_uri": "https://localhost:8080/"
        },
        "id": "xKAQIt-135m6",
        "outputId": "3cb29046-bfae-4330-c319-17824c2ba713"
      },
      "source": [
        " probable_outliers_tm, possible_outliers_tm = tukeys_method(df, \"TC\")\n",
        " print(probable_outliers_tm)\n",
        " print(possible_outliers_tm)"
      ],
      "execution_count": 196,
      "outputs": [
        {
          "output_type": "stream",
          "text": [
            "[7, 15, 27, 40, 42, 67, 72, 89, 90, 91, 92, 96, 124, 149, 150, 156, 163, 174, 177, 193, 198, 199]\n",
            "[7, 15, 18, 27, 40, 42, 67, 72, 89, 90, 91, 92, 95, 96, 124, 135, 144, 149, 150, 156, 163, 174, 177, 193, 196, 198, 199]\n"
          ],
          "name": "stdout"
        }
      ]
    },
    {
      "cell_type": "code",
      "metadata": {
        "colab": {
          "base_uri": "https://localhost:8080/"
        },
        "id": "9L7ELDIXQN6Z",
        "outputId": "6f57d31e-8df7-45e2-9d9e-cb6ceda201ab"
      },
      "source": [
        "probable_outliers_tm, possible_outliers_tm = tukeys_method(df, \"TD\")\n",
        "print(probable_outliers_tm)\n",
        "print(possible_outliers_tm)"
      ],
      "execution_count": 197,
      "outputs": [
        {
          "output_type": "stream",
          "text": [
            "[7, 15, 18, 23, 27, 35, 40, 41, 42, 56, 57, 67, 72, 89, 90, 91, 92, 96, 124, 135, 144, 149, 150, 155, 156, 163, 174, 177, 182, 193, 196, 198, 199]\n",
            "[7, 15, 18, 23, 27, 35, 40, 41, 42, 56, 57, 67, 72, 79, 89, 90, 91, 92, 96, 124, 130, 135, 144, 149, 150, 151, 155, 156, 163, 174, 177, 182, 193, 196, 198, 199]\n"
          ],
          "name": "stdout"
        }
      ]
    },
    {
      "cell_type": "code",
      "metadata": {
        "colab": {
          "base_uri": "https://localhost:8080/"
        },
        "id": "w0xRpmG46fj3",
        "outputId": "4294d0ea-6385-4725-a4a8-e675c7371fa0"
      },
      "source": [
        "probable_outliers_tm, possible_outliers_tm = tukeys_method(df, \"HDI\")\n",
        "print(probable_outliers_tm)\n",
        "print(possible_outliers_tm)"
      ],
      "execution_count": 198,
      "outputs": [
        {
          "output_type": "stream",
          "text": [
            "[]\n",
            "[]\n"
          ],
          "name": "stdout"
        }
      ]
    },
    {
      "cell_type": "code",
      "metadata": {
        "colab": {
          "base_uri": "https://localhost:8080/"
        },
        "id": "bh8iw3m37WMi",
        "outputId": "0b97c0f7-b4e0-4d60-e04b-d696ee1d6ca0"
      },
      "source": [
        "probable_outliers_tm, possible_outliers_tm = tukeys_method(df, \"GDP\")\n",
        "print(probable_outliers_tm)\n",
        "print(possible_outliers_tm)"
      ],
      "execution_count": 199,
      "outputs": [
        {
          "output_type": "stream",
          "text": [
            "[112, 126]\n",
            "[74, 94, 112, 114, 126, 154, 168]\n"
          ],
          "name": "stdout"
        }
      ]
    },
    {
      "cell_type": "code",
      "metadata": {
        "id": "9gbB3qhB8tr_"
      },
      "source": [
        "df[\"GDP\"].replace({112: df[\"GDP\"].mean, 126: df[\"GDP\"].mean}, inplace=True)"
      ],
      "execution_count": 200,
      "outputs": []
    },
    {
      "cell_type": "code",
      "metadata": {
        "colab": {
          "base_uri": "https://localhost:8080/"
        },
        "id": "sPGFsJ_Ecx2X",
        "outputId": "d629af31-54ff-4f99-de03-4662fb718060"
      },
      "source": [
        "df.isna().sum()"
      ],
      "execution_count": 201,
      "outputs": [
        {
          "output_type": "execute_result",
          "data": {
            "text/plain": [
              "CODE       0\n",
              "COUNTRY    0\n",
              "DATE       0\n",
              "HDI        0\n",
              "TC         0\n",
              "TD         0\n",
              "STI        0\n",
              "POP        0\n",
              "GDP        0\n",
              "dtype: int64"
            ]
          },
          "metadata": {
            "tags": []
          },
          "execution_count": 201
        }
      ]
    },
    {
      "cell_type": "code",
      "metadata": {
        "id": "VkG64Yhddiql"
      },
      "source": [
        "# DataFrame.drop(self, labels=None, axis=0, index=None, columns=None, level=None, inplace=False, errors='raise')\n",
        "# df.drop(df.columns[0], axis=1)\n",
        "# df.drop(columns=['Unnamed: 0'])\n",
        "df.drop([27,89,199],axis=0,inplace=True)"
      ],
      "execution_count": 202,
      "outputs": []
    },
    {
      "cell_type": "code",
      "metadata": {
        "colab": {
          "base_uri": "https://localhost:8080/"
        },
        "id": "JlwjFcyWhwOt",
        "outputId": "9eeea842-549c-44df-8cb6-24ed6d69bbdb"
      },
      "source": [
        "print(df.shape)"
      ],
      "execution_count": 203,
      "outputs": [
        {
          "output_type": "stream",
          "text": [
            "(206, 9)\n"
          ],
          "name": "stdout"
        }
      ]
    },
    {
      "cell_type": "code",
      "metadata": {
        "colab": {
          "base_uri": "https://localhost:8080/"
        },
        "id": "GbqYPOCkicV7",
        "outputId": "d36df4fb-7789-4bc7-d6d0-1e1c1b7fe032"
      },
      "source": [
        "df.isna().sum()"
      ],
      "execution_count": 204,
      "outputs": [
        {
          "output_type": "execute_result",
          "data": {
            "text/plain": [
              "CODE       0\n",
              "COUNTRY    0\n",
              "DATE       0\n",
              "HDI        0\n",
              "TC         0\n",
              "TD         0\n",
              "STI        0\n",
              "POP        0\n",
              "GDP        0\n",
              "dtype: int64"
            ]
          },
          "metadata": {
            "tags": []
          },
          "execution_count": 204
        }
      ]
    },
    {
      "cell_type": "code",
      "metadata": {
        "colab": {
          "base_uri": "https://localhost:8080/"
        },
        "id": "zSpc7pwha7B7",
        "outputId": "8afd1549-a43e-4545-831b-abcfcf4bb5d5"
      },
      "source": [
        "#Extracting required row\n",
        "#Just 2 rows - TC, GDP \n",
        "x = df.iloc[:, [4,8]].values\n",
        "print(df.iloc[:, [4,8]])\n",
        "print(x)\n",
        "type(x)"
      ],
      "execution_count": 205,
      "outputs": [
        {
          "output_type": "stream",
          "text": [
            "        TC        GDP\n",
            "0    40200   1803.987\n",
            "1    17055  11803.431\n",
            "2    54402  13913.839\n",
            "3     3377  40886.390\n",
            "4     7462   5819.495\n",
            "..     ...        ...\n",
            "204  86636  16745.022\n",
            "205   1134   6171.884\n",
            "206   2059   1479.147\n",
            "207  15853   3689.251\n",
            "208   8147   1899.775\n",
            "\n",
            "[206 rows x 2 columns]\n",
            "[[4.0200000e+04 1.8039870e+03]\n",
            " [1.7055000e+04 1.1803431e+04]\n",
            " [5.4402000e+04 1.3913839e+04]\n",
            " [3.3770000e+03 4.0886390e+04]\n",
            " [7.4620000e+03 5.8194950e+03]\n",
            " [3.0000000e+00 2.1068000e+04]\n",
            " [1.1900000e+02 2.1490943e+04]\n",
            " [9.8966700e+05 1.8933907e+04]\n",
            " [6.4694000e+04 8.7875800e+03]\n",
            " [4.3220000e+03 3.5973781e+04]\n",
            " [2.7390000e+04 4.4648710e+04]\n",
            " [6.5557000e+04 4.5436686e+04]\n",
            " [4.4964000e+04 1.5847419e+04]\n",
            " [5.7030000e+03 2.7717847e+04]\n",
            " [7.7902000e+04 4.3290705e+04]\n",
            " [3.8856900e+05 3.5239840e+03]\n",
            " [2.2200000e+02 1.6978068e+04]\n",
            " [8.7698000e+04 1.7167967e+04]\n",
            " [2.2212600e+05 4.2658576e+04]\n",
            " [2.8130000e+03 7.8243620e+03]\n",
            " [2.4960000e+03 2.0642360e+03]\n",
            " [1.8500000e+02 5.0669315e+04]\n",
            " [3.2700000e+02 8.7085970e+03]\n",
            " [1.3977100e+05 6.8858290e+03]\n",
            " [1.5000000e+02 2.3500000e+04]\n",
            " [3.3561000e+04 1.1713895e+04]\n",
            " [5.2420000e+03 1.5807374e+04]\n",
            " [7.1000000e+01 3.4246000e+04]\n",
            " [1.4700000e+02 7.1809251e+04]\n",
            " [2.9503000e+04 1.8563307e+04]\n",
            " [2.3810000e+03 1.7031020e+03]\n",
            " [5.4200000e+02 7.0222500e+02]\n",
            " [2.8300000e+02 3.6450700e+03]\n",
            " [2.1441000e+04 3.3649260e+03]\n",
            " [1.9814800e+05 4.4017591e+04]\n",
            " [7.7520000e+03 6.2225540e+03]\n",
            " [2.3300000e+02 4.9903029e+04]\n",
            " [4.8550000e+03 6.6124000e+02]\n",
            " [1.3790000e+03 1.7681530e+03]\n",
            " [4.9176000e+05 2.2767037e+04]\n",
            " [9.0972000e+04 1.5308712e+04]\n",
            " [9.5957200e+05 1.3254949e+04]\n",
            " [5.0200000e+02 1.4138900e+03]\n",
            " [5.1560000e+03 4.8814060e+03]\n",
            " [9.5514000e+04 1.5524995e+04]\n",
            " [2.0323000e+04 3.6010060e+03]\n",
            " [2.5580000e+04 2.2669797e+04]\n",
            " [6.2200000e+03 8.8218200e+03]\n",
            " [2.6440000e+03 3.2415132e+04]\n",
            " [1.7388500e+05 3.2605906e+04]\n",
            " [1.1051000e+04 8.0813300e+02]\n",
            " [3.5392000e+04 4.6682515e+04]\n",
            " [5.4590000e+03 2.7054060e+03]\n",
            " [3.3000000e+01 9.6733670e+03]\n",
            " [1.2134700e+05 1.4600861e+04]\n",
            " [1.5328900e+05 1.0581936e+04]\n",
            " [1.0542400e+05 1.0550206e+04]\n",
            " [3.1666000e+04 7.2924580e+03]\n",
            " [5.0700000e+03 2.2604873e+04]\n",
            " [4.2500000e+02 1.5104590e+03]\n",
            " [4.0780000e+03 2.9481252e+04]\n",
            " [8.9137000e+04 1.7299270e+03]\n",
            " [4.8500000e+02 6.4269700e+04]\n",
            " [1.3000000e+01 6.7700000e+04]\n",
            " [3.2000000e+01 8.7029750e+03]\n",
            " [1.3424000e+04 4.0585721e+04]\n",
            " [8.9703400e+05 3.8605671e+04]\n",
            " [3.7970000e+03 1.4323820e+04]\n",
            " [8.8810000e+03 1.6562413e+04]\n",
            " [3.6490000e+03 1.5617670e+03]\n",
            " [1.7477000e+04 9.7450790e+03]\n",
            " [3.6629900e+05 4.5229245e+04]\n",
            " [4.7310000e+04 4.2276300e+03]\n",
            " [5.7100000e+02 8.5000000e+04]\n",
            " [2.5370000e+04 2.4574382e+04]\n",
            " [1.6000000e+01 5.4470960e+04]\n",
            " [2.7000000e+01 1.3593877e+04]\n",
            " [3.6750000e+03 3.5712560e+04]\n",
            " [1.0136000e+05 7.4238080e+03]\n",
            " [2.5800000e+02 5.1868000e+04]\n",
            " [1.1518000e+04 1.9989260e+03]\n",
            " [2.3890000e+03 1.5486750e+03]\n",
            " [3.7340000e+03 7.4350470e+03]\n",
            " [8.9250000e+03 1.6531730e+03]\n",
            " [8.8425000e+04 4.5417950e+03]\n",
            " [2.0000000e+00 5.6054920e+04]\n",
            " [4.7768000e+04 2.6777561e+04]\n",
            " [4.0550000e+03 4.6482958e+04]\n",
            " [3.6186700e+05 1.1188744e+04]\n",
            " [5.3038000e+05 1.9082620e+04]\n",
            " [4.2663400e+05 1.5663986e+04]\n",
            " [4.9962000e+04 6.7335293e+04]\n",
            " [3.4800000e+02 8.9108430e+04]\n",
            " [3.0384600e+05 3.3132320e+04]\n",
            " [4.1424100e+05 3.5220084e+04]\n",
            " [8.2740000e+03 8.1935710e+03]\n",
            " [9.3127000e+04 3.9002223e+04]\n",
            " [4.9000000e+02 6.3492000e+04]\n",
            " [3.7573000e+04 8.3374900e+03]\n",
            " [1.4547300e+05 2.4055588e+04]\n",
            " [4.4881000e+04 2.9930280e+03]\n",
            " [1.6891000e+04 9.7958340e+03]\n",
            " [1.1614600e+05 6.5530537e+04]\n",
            " [5.2526000e+04 3.3934740e+03]\n",
            " [2.3000000e+01 6.3973600e+03]\n",
            " [3.4500000e+03 2.5063846e+04]\n",
            " [6.2286000e+04 1.3367565e+04]\n",
            " [1.8330000e+03 2.8511530e+03]\n",
            " [1.3770000e+03 7.5278800e+02]\n",
            " [4.8790000e+04 1.7881509e+04]\n",
            " [2.2400000e+02 1.7940283e+05]\n",
            " [7.7260000e+03 2.9524265e+04]\n",
            " [1.0646000e+04 9.4277965e+04]\n",
            " [2.3628000e+04 1.3111214e+04]\n",
            " [1.6810000e+04 1.4164400e+03]\n",
            " [5.8570000e+03 1.0950420e+03]\n",
            " [2.0498000e+04 2.6808164e+04]\n",
            " [1.1210000e+04 1.5183616e+04]\n",
            " [3.3790000e+03 2.0143060e+03]\n",
            " [4.2820000e+03 3.6513323e+04]\n",
            " [7.6030000e+03 3.5976330e+03]\n",
            " [4.0700000e+02 2.0292745e+04]\n",
            " [8.5122700e+05 1.7336469e+04]\n",
            " [6.7050000e+04 5.1899720e+03]\n",
            " [2.6500000e+02 1.8082902e+05]\n",
            " [3.2400000e+02 1.1840846e+04]\n",
            " [1.5615000e+04 1.6409288e+04]\n",
            " [1.3000000e+01 1.3487000e+04]\n",
            " [1.7363200e+05 7.4850130e+03]\n",
            " [1.0866000e+04 1.1361030e+03]\n",
            " [3.6025000e+04 5.5915970e+03]\n",
            " [1.2293000e+04 9.5418080e+03]\n",
            " [1.3224600e+05 2.4428040e+03]\n",
            " [2.2823400e+05 4.8472545e+04]\n",
            " [2.7000000e+01 3.4942000e+04]\n",
            " [1.5300000e+03 3.6085843e+04]\n",
            " [5.3530000e+03 5.3214440e+03]\n",
            " [1.2100000e+03 9.2600000e+02]\n",
            " [6.1440000e+04 5.3384540e+03]\n",
            " [8.6000000e+01 2.3258680e+04]\n",
            " [1.6136000e+04 6.4800057e+04]\n",
            " [1.0995300e+05 3.7960709e+04]\n",
            " [3.2345200e+05 5.0347080e+03]\n",
            " [5.8539000e+04 4.4498980e+03]\n",
            " [1.2474500e+05 2.2267037e+04]\n",
            " [5.8100000e+02 3.8231940e+03]\n",
            " [5.4724000e+04 8.8270100e+03]\n",
            " [8.6867500e+05 1.2236706e+04]\n",
            " [3.5661800e+05 7.5991880e+03]\n",
            " [1.7576600e+05 2.7216445e+04]\n",
            " [9.9911000e+04 2.7936896e+04]\n",
            " [5.7293000e+04 3.5044670e+04]\n",
            " [1.2943100e+05 1.1693560e+05]\n",
            " [1.8038800e+05 2.3313199e+04]\n",
            " [1.3993340e+06 2.4765954e+04]\n",
            " [4.9740000e+03 1.8542110e+03]\n",
            " [1.9000000e+01 2.4654385e+04]\n",
            " [3.3000000e+01 1.2951839e+04]\n",
            " [6.7000000e+01 1.0727146e+04]\n",
            " [7.5900000e+02 5.6861470e+04]\n",
            " [9.3300000e+02 3.0527140e+03]\n",
            " [3.4220200e+05 4.9045411e+04]\n",
            " [1.5418000e+04 2.4705800e+03]\n",
            " [3.6160000e+04 1.4048881e+04]\n",
            " [1.4900000e+02 2.6382287e+04]\n",
            " [2.3300000e+03 1.3903000e+03]\n",
            " [5.7911000e+04 8.5535383e+04]\n",
            " [7.5300000e+02 3.6327232e+04]\n",
            " [2.9835000e+04 3.0155152e+04]\n",
            " [1.3683000e+04 3.1400840e+04]\n",
            " [3.0000000e+00 2.2059230e+03]\n",
            " [3.8640000e+03 1.0500000e+02]\n",
            " [7.0379300e+05 1.2294876e+04]\n",
            " [2.5275000e+04 3.5938374e+04]\n",
            " [2.8420000e+03 1.5698880e+03]\n",
            " [9.3656000e+05 3.4272360e+04]\n",
            " [5.5380000e+03 1.1669077e+04]\n",
            " [1.3691000e+04 4.4665070e+03]\n",
            " [5.1300000e+03 1.3767119e+04]\n",
            " [5.7800000e+03 7.7389750e+03]\n",
            " [1.0320000e+05 4.6949283e+04]\n",
            " [7.4422000e+04 5.7410166e+04]\n",
            " [5.0770000e+03 7.9000000e+02]\n",
            " [5.4000000e+02 2.5026000e+04]\n",
            " [1.0493000e+04 2.8969130e+03]\n",
            " [5.0900000e+02 2.6833040e+03]\n",
            " [3.6910000e+03 1.6277671e+04]\n",
            " [2.9000000e+01 6.5701020e+03]\n",
            " [2.0570000e+03 1.4298130e+03]\n",
            " [5.2970000e+03 2.8763071e+04]\n",
            " [4.0542000e+04 1.0849297e+04]\n",
            " [3.4749300e+05 2.5129341e+04]\n",
            " [6.9800000e+02 3.1353330e+04]\n",
            " [1.0590000e+04 1.6977070e+03]\n",
            " [3.0363800e+05 7.8943930e+03]\n",
            " [1.1560200e+05 6.7293483e+04]\n",
            " [7.2240900e+05 3.9753244e+04]\n",
            " [1.3350000e+03 3.5928020e+04]\n",
            " [2.5310000e+03 2.0551409e+04]\n",
            " [6.3430000e+04 6.2531040e+03]\n",
            " [2.6000000e+01 2.1198000e+04]\n",
            " [8.6636000e+04 1.6745022e+04]\n",
            " [1.1340000e+03 6.1718840e+03]\n",
            " [2.0590000e+03 1.4791470e+03]\n",
            " [1.5853000e+04 3.6892510e+03]\n",
            " [8.1470000e+03 1.8997750e+03]]\n"
          ],
          "name": "stdout"
        },
        {
          "output_type": "execute_result",
          "data": {
            "text/plain": [
              "numpy.ndarray"
            ]
          },
          "metadata": {
            "tags": []
          },
          "execution_count": 205
        }
      ]
    },
    {
      "cell_type": "code",
      "metadata": {
        "colab": {
          "base_uri": "https://localhost:8080/"
        },
        "id": "-_P5NyETXrdb",
        "outputId": "67dc59ae-b4ed-46ce-ed1c-119d4289a4ff"
      },
      "source": [
        "from sklearn.preprocessing import StandardScaler #Scaling the values\n",
        "sc = StandardScaler( )\n",
        "x = sc.fit_transform(x)\n",
        "print(x)"
      ],
      "execution_count": 213,
      "outputs": [
        {
          "output_type": "stream",
          "text": [
            "[[-2.55292288e-01 -8.04929354e-01]\n",
            " [-3.67133252e-01 -4.21344048e-01]\n",
            " [-1.86665571e-01 -3.40387397e-01]\n",
            " [-4.33227904e-01  6.94297555e-01]\n",
            " [-4.13488421e-01 -6.50891803e-01]\n",
            " [-4.49531702e-01 -6.59490344e-02]\n",
            " [-4.48971169e-01 -4.97246603e-02]\n",
            " [ 4.33270964e+00 -1.47814258e-01]\n",
            " [-1.36932704e-01 -5.37034093e-01]\n",
            " [-4.28661487e-01  5.05846614e-01]\n",
            " [-3.17192602e-01  8.38622646e-01]\n",
            " [-1.32762527e-01  8.68849928e-01]\n",
            " [-2.32271750e-01 -2.66213985e-01]\n",
            " [-4.21988237e-01  1.89143508e-01]\n",
            " [-7.31091805e-02  7.86528673e-01]\n",
            " [ 1.42809180e+00 -7.38949128e-01]\n",
            " [-4.48473453e-01 -2.22841539e-01]\n",
            " [-2.57730783e-02 -2.15556888e-01]\n",
            " [ 6.23808133e-01  7.62279785e-01]\n",
            " [-4.35953257e-01 -5.73983775e-01]\n",
            " [-4.37485060e-01 -7.94946029e-01]\n",
            " [-4.48652244e-01  1.06957705e+00]\n",
            " [-4.47966074e-01 -5.40063933e-01]\n",
            " [ 2.25853386e-01 -6.09986523e-01]\n",
            " [-4.48821371e-01  2.73440991e-02]\n",
            " [-2.87373177e-01 -4.24778708e-01]\n",
            " [-4.24215875e-01 -2.67750138e-01]\n",
            " [-4.49203113e-01  4.39567789e-01]\n",
            " [-4.48835867e-01  1.88051902e+00]\n",
            " [-3.06982191e-01 -1.62030720e-01]\n",
            " [-4.38040762e-01 -8.08799369e-01]\n",
            " [-4.46927153e-01 -8.47193675e-01]\n",
            " [-4.48178690e-01 -7.34304188e-01]\n",
            " [-3.45939281e-01 -7.45050698e-01]\n",
            " [ 5.07941957e-01  8.14412502e-01]\n",
            " [-4.12087086e-01 -6.35430192e-01]\n",
            " [-4.48420299e-01  1.04018181e+00]\n",
            " [-4.26085932e-01 -8.48765887e-01]\n",
            " [-4.42882613e-01 -8.06303970e-01]\n",
            " [ 1.92673000e+00 -7.72847817e-04]\n",
            " [-9.95249866e-03 -2.86879143e-01]\n",
            " [ 4.18728498e+00 -3.65662854e-01]\n",
            " [-4.47120441e-01 -8.19893734e-01]\n",
            " [-4.24631443e-01 -6.86877519e-01]\n",
            " [ 1.19952939e-02 -2.78582384e-01]\n",
            " [-3.51341666e-01 -7.35994513e-01]\n",
            " [-3.25938860e-01 -4.50303873e-03]\n",
            " [-4.19489997e-01 -5.35720624e-01]\n",
            " [-4.36769897e-01  3.69334477e-01]\n",
            " [ 3.90698608e-01  3.76652695e-01]\n",
            " [-3.96145702e-01 -8.43130974e-01]\n",
            " [-2.78525443e-01  9.16640755e-01]\n",
            " [-4.23167291e-01 -7.70350323e-01]\n",
            " [-4.49386737e-01 -5.03054716e-01]\n",
            " [ 1.36825176e-01 -3.14032777e-01]\n",
            " [ 2.91174888e-01 -4.68201406e-01]\n",
            " [ 5.98822654e-02 -4.69418590e-01]\n",
            " [-2.96530171e-01 -5.94387965e-01]\n",
            " [-4.25047012e-01 -6.99356645e-03]\n",
            " [-4.47492519e-01 -8.16189283e-01]\n",
            " [-4.29840541e-01  2.56788894e-01]\n",
            " [-1.88195615e-02 -8.07770345e-01]\n",
            " [-4.47202588e-01  1.59129684e+00]\n",
            " [-4.49483380e-01  1.72288542e+00]\n",
            " [-4.49391569e-01 -5.40279597e-01]\n",
            " [-3.84678923e-01  6.82763692e-01]\n",
            " [ 3.88508968e+00  6.06807661e-01]\n",
            " [-4.31198385e-01 -3.24660254e-01]\n",
            " [-4.06631548e-01 -2.38786341e-01]\n",
            " [-4.31913549e-01 -8.14221074e-01]\n",
            " [-3.65094070e-01 -5.00303796e-01]\n",
            " [ 1.32047900e+00  8.60892354e-01]\n",
            " [-2.20935440e-01 -7.11956800e-01]\n",
            " [-4.46787020e-01  2.38652490e+00]\n",
            " [-3.26953619e-01  6.85581055e-02]\n",
            " [-4.49468884e-01  1.21541067e+00]\n",
            " [-4.49415730e-01 -3.52661351e-01]\n",
            " [-4.31787912e-01  4.95826003e-01]\n",
            " [ 4.02442581e-02 -5.89349292e-01]\n",
            " [-4.48299495e-01  1.11555940e+00]\n",
            " [-3.93889071e-01 -7.97451364e-01]\n",
            " [-4.38002104e-01 -8.14723292e-01]\n",
            " [-4.31502813e-01 -5.88918156e-01]\n",
            " [-4.06418931e-01 -8.10714679e-01]\n",
            " [-2.22600785e-02 -6.99905223e-01]\n",
            " [-4.49536534e-01  1.27617243e+00]\n",
            " [-2.18722298e-01  1.53073514e-01]\n",
            " [-4.29951681e-01  9.08985616e-01]\n",
            " [ 1.29906275e+00 -4.44923849e-01]\n",
            " [ 2.11334905e+00 -1.42109528e-01]\n",
            " [ 1.61202900e+00 -2.73250597e-01]\n",
            " [-2.08120480e-01  1.70889502e+00]\n",
            " [-4.47864598e-01  2.54412700e+00]\n",
            " [ 1.01869444e+00  3.96846285e-01]\n",
            " [ 1.55214370e+00  4.76934297e-01]\n",
            " [-4.09564685e-01 -5.59820672e-01]\n",
            " [ 4.60863954e-04  6.22019658e-01]\n",
            " [-4.47178427e-01  1.56146375e+00]\n",
            " [-2.67986443e-01 -5.54299844e-01]\n",
            " [ 2.53406516e-01  4.86568234e-02]\n",
            " [-2.32672822e-01 -7.59316952e-01]\n",
            " [-3.67925731e-01 -4.98356801e-01]\n",
            " [ 1.11692973e-01  1.63966338e+00]\n",
            " [-1.95730753e-01 -7.43955578e-01]\n",
            " [-4.49435058e-01 -6.28724518e-01]\n",
            " [-4.32875154e-01  8.73342692e-02]\n",
            " [-1.48568610e-01 -3.61342830e-01]\n",
            " [-4.40688800e-01 -7.64759371e-01]\n",
            " [-4.42892277e-01 -8.45254045e-01]\n",
            " [-2.13783803e-01 -1.88184943e-01]\n",
            " [-4.48463789e-01  6.00788009e+00]\n",
            " [-4.12212723e-01  2.58438901e-01]\n",
            " [-3.98102738e-01  2.74243379e+00]\n",
            " [-3.35371288e-01 -3.71176624e-01]\n",
            " [-3.68317138e-01 -8.19795914e-01]\n",
            " [-4.21244080e-01 -8.32124954e-01]\n",
            " [-3.50496033e-01  1.54247465e-01]\n",
            " [-3.95377384e-01 -2.91677909e-01]\n",
            " [-4.33218239e-01 -7.96861377e-01]\n",
            " [-4.28854775e-01  5.26543803e-01]\n",
            " [-4.12807082e-01 -7.36123903e-01]\n",
            " [-4.47579499e-01 -9.56883305e-02]\n",
            " [ 3.66374170e+00 -2.09093039e-01]\n",
            " [-1.25548072e-01 -6.75040723e-01]\n",
            " [-4.48265669e-01  6.06258969e+00]\n",
            " [-4.47980570e-01 -4.19908784e-01]\n",
            " [-3.74091601e-01 -2.44660318e-01]\n",
            " [-4.49483380e-01 -3.56761224e-01]\n",
            " [ 3.89476065e-01 -5.87001427e-01]\n",
            " [-3.97039657e-01 -8.30549827e-01]\n",
            " [-2.75466668e-01 -6.59634121e-01]\n",
            " [-3.90144126e-01 -5.08101407e-01]\n",
            " [ 1.89491180e-01 -7.80423910e-01]\n",
            " [ 6.53323130e-01  9.85307493e-01]\n",
            " [-4.49415730e-01  4.66266810e-01]\n",
            " [-4.42152953e-01  5.10145387e-01]\n",
            " [-4.23679503e-01 -6.69997370e-01]\n",
            " [-4.43699253e-01 -8.38609518e-01]\n",
            " [-1.52656640e-01 -6.69344855e-01]\n",
            " [-4.49130631e-01  1.80869038e-02]\n",
            " [-3.71574032e-01  1.61164169e+00]\n",
            " [ 8.17672395e-02  5.82066490e-01]\n",
            " [ 1.11343430e+00 -6.80996753e-01]\n",
            " [-1.66674814e-01 -7.03430452e-01]\n",
            " [ 1.53244947e-01 -1.99531795e-02]\n",
            " [-4.46738698e-01 -7.27471234e-01]\n",
            " [-1.85109607e-01 -5.35521532e-01]\n",
            " [ 3.74805369e+00 -4.04723331e-01]\n",
            " [ 1.27369860e+00 -5.82621599e-01]\n",
            " [ 3.99787951e-01  1.69909395e-01]\n",
            " [ 3.32424194e-02  1.97546373e-01]\n",
            " [-1.72695719e-01  4.70205300e-01]\n",
            " [ 1.75888575e-01  3.61159571e+00]\n",
            " [ 4.22122319e-01  2.01782889e-02]\n",
            " [ 6.31229712e+00  7.59069345e-02]\n",
            " [-4.25510901e-01 -8.03002728e-01]\n",
            " [-4.49454387e-01  7.16270736e-02]\n",
            " [-4.49386737e-01 -3.77290355e-01]\n",
            " [-4.49222442e-01 -4.62631054e-01]\n",
            " [-4.45878569e-01  1.30711222e+00]\n",
            " [-4.45037768e-01 -7.57027358e-01]\n",
            " [ 1.20403780e+00  1.00728301e+00]\n",
            " [-3.75043542e-01 -7.79358404e-01]\n",
            " [-2.74814323e-01 -3.35207096e-01]\n",
            " [-4.48826203e-01  1.37910541e-01]\n",
            " [-4.38287203e-01 -8.20798662e-01]\n",
            " [-1.69709427e-01  2.40706255e+00]\n",
            " [-4.45907562e-01  5.19405229e-01]\n",
            " [-3.05377905e-01  2.82640145e-01]\n",
            " [-3.83427386e-01  3.30425563e-01]\n",
            " [-4.49531702e-01 -7.89510822e-01]\n",
            " [-4.30874629e-01 -8.70103622e-01]\n",
            " [ 2.95131307e+00 -4.02491892e-01]\n",
            " [-3.27412677e-01  5.04488378e-01]\n",
            " [-4.35813124e-01 -8.13909547e-01]\n",
            " [ 4.07608670e+00  4.40578976e-01]\n",
            " [-4.22785548e-01 -4.26497956e-01]\n",
            " [-3.83388729e-01 -7.02793320e-01]\n",
            " [-4.24757080e-01 -3.46015673e-01]\n",
            " [-4.21616159e-01 -5.77259277e-01]\n",
            " [ 4.91354819e-02  9.26874153e-01]\n",
            " [-8.99251907e-02  1.32816056e+00]\n",
            " [-4.25013186e-01 -8.43826568e-01]\n",
            " [-4.46936818e-01  8.58824716e-02]\n",
            " [-3.98842062e-01 -7.63003987e-01]\n",
            " [-4.47086616e-01 -7.71198170e-01]\n",
            " [-4.31710597e-01 -2.49709233e-01]\n",
            " [-4.49406065e-01 -6.22098020e-01]\n",
            " [-4.39606390e-01 -8.19282917e-01]\n",
            " [-4.23950105e-01  2.29238995e-01]\n",
            " [-2.53639680e-01 -4.57945261e-01]\n",
            " [ 1.22960490e+00  8.98467009e-02]\n",
            " [-4.46173332e-01  3.28603048e-01]\n",
            " [-3.98373340e-01 -8.09006325e-01]\n",
            " [ 1.01768935e+00 -5.71297339e-01]\n",
            " [ 1.09064263e-01  1.70729116e+00]\n",
            " [ 3.04126906e+00  6.50829322e-01]\n",
            " [-4.43095229e-01  5.04091192e-01]\n",
            " [-4.37315934e-01 -8.57658079e-02]\n",
            " [-1.43040588e-01 -6.34258274e-01]\n",
            " [-4.49420562e-01 -6.09621481e-02]\n",
            " [-3.09048607e-02 -2.31781339e-01]\n",
            " [-4.44066499e-01 -6.37373927e-01]\n",
            " [-4.39596726e-01 -8.17390432e-01]\n",
            " [-3.72941541e-01 -7.32609376e-01]\n",
            " [-4.10178373e-01 -8.01254863e-01]]\n"
          ],
          "name": "stdout"
        }
      ]
    },
    {
      "cell_type": "code",
      "metadata": {
        "id": "lD7VBHiqceq6",
        "colab": {
          "base_uri": "https://localhost:8080/",
          "height": 413
        },
        "outputId": "21730ea1-41af-4996-f762-75b51c1d88d1"
      },
      "source": [
        "from sklearn.cluster import KMeans\n",
        "wcss = [] # a list to store the wcss values for the different k values\n",
        "for i in range(1,11): # we will use i to input different k values in the KMeans model\n",
        "    kmeans = KMeans(n_clusters=i, init='k-means++', random_state=42)\n",
        "    kmeans.fit(x)\n",
        "# the 'inertia_' function of the KMeans class is used to get the wcss values\n",
        "    wcss.append(kmeans.inertia_)\n",
        "print(wcss)\n",
        "x_axis = range(1,11)\n",
        "plt.scatter(x_axis,wcss,color = 'red')\n",
        "plt.plot(x_axis,wcss)\n",
        "plt.title(\"The elbow method\")\n",
        "plt.xlabel(\"Number of clusters\")\n",
        "plt.ylabel('WCSS')\n",
        "plt.show()"
      ],
      "execution_count": 218,
      "outputs": [
        {
          "output_type": "stream",
          "text": [
            "[411.9999999999998, 256.50592987627283, 136.96106013114235, 89.67158180699059, 61.337918528433434, 42.23541398015536, 35.14976303688289, 30.18588020101427, 24.29016891233743, 20.094374798459782]\n"
          ],
          "name": "stdout"
        },
        {
          "output_type": "display_data",
          "data": {
            "image/png": "[encoded data removed]",
            "text/plain": [
              "<Figure size 576x396 with 1 Axes>"
            ]
          },
          "metadata": {
            "tags": []
          }
        }
      ]
    },
    {
      "cell_type": "code",
      "metadata": {
        "id": "ScIozbJ0X2gv"
      },
      "source": [
        "# # Import ElbowVisualizer\n",
        "# from yellowbrick.cluster import KElbowVisualizer\n",
        "# model = KMeans()\n",
        "# # k is range of number of clusters.\n",
        "# visualizer = KElbowVisualizer(model, k=(4,12), timings=False)\n",
        "# visualizer.fit(x)        # Fit the data to the visualizer\n",
        "# visualizer.show()        # Finalize and render the figure"
      ],
      "execution_count": 207,
      "outputs": []
    },
    {
      "cell_type": "code",
      "metadata": {
        "colab": {
          "base_uri": "https://localhost:8080/",
          "height": 478
        },
        "id": "DRzeVdvjycL5",
        "outputId": "2ec0bd1c-1abd-4288-d287-0e2477da6b8b"
      },
      "source": [
        "#Visualizing the output\n",
        "kmeans = KMeans(n_clusters=3, init='k-means++', random_state=42)\n",
        "y_clusters=  kmeans.fit_predict(x)\n",
        "print(y_clusters)\n",
        "#Now for those countries that have a low gdp but hardly any cases, we can consider them to be not much affected, the fh being least affected\n",
        "#sh, moderately affected\n",
        "#We have to do this because of the lack of variables that determine the gdp of the country and historical data\n",
        "plt.scatter(x[y_clusters==0,1], x[y_clusters==0,0], s=100, c='green', label='cluster_1 - Least affected')\n",
        "plt.scatter(x[y_clusters==1,1], x[y_clusters==1,0], s=100, c='orange', label='cluster_2 - Moderately affected')\n",
        "plt.scatter(x[y_clusters==2,1], x[y_clusters==2,0], s=100, c='red', label='cluster_3 - Worst affected')\n",
        "plt.scatter(kmeans.cluster_centers_[:,0],kmeans.cluster_centers_[:, 1] , s=300, c='blue', label='centroid')\n",
        "plt.title('Clusters of countries')\n",
        "# ax.set_title(\"Clusters of countries\")\n",
        "plt.xlabel('GDP')\n",
        "plt.ylabel('Total cases')\n",
        "plt.legend( )\n",
        "plt.show() #28, 90, 200\n",
        "# plt.scatter(X[:,0], X[:,1])\n",
        "# plt.scatter(kmeans.cluster_centers_[:, 0], kmeans.cluster_centers_[:, 1], s=300, c='red')\n",
        "# plt.show()\n",
        "#Use plotly module to make plots interactive in google colab - can't be achieved by matplotlib... ax, fig = plt.subplot( )... also... fig = plt.figure( ), ax alone can be a parameter to subplot. This is not package import, something separate\n"
      ],
      "execution_count": 238,
      "outputs": [
        {
          "output_type": "stream",
          "text": [
            "[1 1 1 0 1 1 1 2 1 1 0 0 1 1 0 1 1 1 0 1 1 0 1 1 1 1 1 1 0 1 1 1 1 1 0 1 0\n",
            " 1 1 2 1 2 1 1 1 1 1 1 1 1 1 0 1 1 1 1 1 1 1 1 1 1 0 0 1 0 2 1 1 1 1 0 1 0\n",
            " 1 0 1 1 1 0 1 1 1 1 1 0 1 0 1 2 2 0 0 1 2 1 1 0 1 1 1 1 0 1 1 1 1 1 1 1 0\n",
            " 1 0 1 1 1 1 1 1 1 1 1 2 1 0 1 1 1 1 1 1 1 1 0 1 1 1 1 1 1 0 1 1 1 1 1 1 2\n",
            " 1 1 1 1 0 1 2 1 1 1 1 0 1 0 1 1 1 1 0 1 1 1 1 1 2 1 1 2 1 1 1 1 0 0 1 1 1\n",
            " 1 1 1 1 1 1 1 1 1 1 0 2 1 1 1 1 1 1 1 1 1]\n"
          ],
          "name": "stdout"
        },
        {
          "output_type": "display_data",
          "data": {
            "image/png": "[encoded data removed]",
            "text/plain": [
              "<Figure size 576x396 with 1 Axes>"
            ]
          },
          "metadata": {
            "tags": []
          }
        }
      ]
    }
  ]
}